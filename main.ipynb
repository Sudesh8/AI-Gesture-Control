{
 "cells": [
  {
   "cell_type": "code",
   "execution_count": 1,
   "metadata": {},
   "outputs": [
    {
     "name": "stdout",
     "output_type": "stream",
     "text": [
      "Requirement already satisfied: yolosplitter in e:\\suedeshcodes\\envs\\tfbase\\lib\\site-packages (0.4.9.1)\n",
      "Requirement already satisfied: tqdm in e:\\suedeshcodes\\envs\\tfbase\\lib\\site-packages (from yolosplitter) (4.66.4)\n",
      "Requirement already satisfied: pandas in e:\\suedeshcodes\\envs\\tfbase\\lib\\site-packages (from yolosplitter) (2.2.2)\n",
      "Requirement already satisfied: PyYAML in e:\\suedeshcodes\\envs\\tfbase\\lib\\site-packages (from yolosplitter) (6.0.1)\n",
      "Requirement already satisfied: tzdata>=2022.7 in e:\\suedeshcodes\\envs\\tfbase\\lib\\site-packages (from pandas->yolosplitter) (2024.1)\n",
      "Requirement already satisfied: python-dateutil>=2.8.2 in e:\\suedeshcodes\\envs\\tfbase\\lib\\site-packages (from pandas->yolosplitter) (2.9.0.post0)\n",
      "Requirement already satisfied: pytz>=2020.1 in e:\\suedeshcodes\\envs\\tfbase\\lib\\site-packages (from pandas->yolosplitter) (2024.1)\n",
      "Requirement already satisfied: numpy>=1.22.4 in e:\\suedeshcodes\\envs\\tfbase\\lib\\site-packages (from pandas->yolosplitter) (1.26.4)\n",
      "Requirement already satisfied: colorama in e:\\suedeshcodes\\envs\\tfbase\\lib\\site-packages (from tqdm->yolosplitter) (0.4.6)\n",
      "Requirement already satisfied: six>=1.5 in e:\\suedeshcodes\\envs\\tfbase\\lib\\site-packages (from python-dateutil>=2.8.2->pandas->yolosplitter) (1.16.0)\n"
     ]
    },
    {
     "name": "stderr",
     "output_type": "stream",
     "text": [
      "\n",
      "[notice] A new release of pip is available: 23.0.1 -> 24.1.2\n",
      "[notice] To update, run: python.exe -m pip install --upgrade pip\n"
     ]
    }
   ],
   "source": [
    "! pip install yolosplitter"
   ]
  },
  {
   "cell_type": "code",
   "execution_count": 2,
   "metadata": {},
   "outputs": [],
   "source": [
    "from yolosplitter import YoloSplitter"
   ]
  },
  {
   "cell_type": "code",
   "execution_count": 3,
   "metadata": {},
   "outputs": [],
   "source": [
    "ys=YoloSplitter()"
   ]
  },
  {
   "cell_type": "code",
   "execution_count": 5,
   "metadata": {},
   "outputs": [
    {
     "name": "stdout",
     "output_type": "stream",
     "text": [
      "\n",
      "Train size:148,Validation size:37,Test size :0\n",
      "\n",
      "{'train': 148, 'val': 37, 'test': 0, 'cls_names': {0, 1}, 'errors': 0}\n"
     ]
    }
   ],
   "source": [
    "ys.from_yolo_dir(r\"D:\\CODES\\Projects\\forshorts\\dataset\\v1\",ratio=(0.80,0.20))"
   ]
  },
  {
   "cell_type": "code",
   "execution_count": 6,
   "metadata": {},
   "outputs": [
    {
     "data": {
      "text/html": [
       "<div>\n",
       "<style scoped>\n",
       "    .dataframe tbody tr th:only-of-type {\n",
       "        vertical-align: middle;\n",
       "    }\n",
       "\n",
       "    .dataframe tbody tr th {\n",
       "        vertical-align: top;\n",
       "    }\n",
       "\n",
       "    .dataframe thead th {\n",
       "        text-align: right;\n",
       "    }\n",
       "</style>\n",
       "<table border=\"1\" class=\"dataframe\">\n",
       "  <thead>\n",
       "    <tr style=\"text-align: right;\">\n",
       "      <th></th>\n",
       "      <th>images</th>\n",
       "      <th>labels</th>\n",
       "      <th>annots</th>\n",
       "      <th>cls_names</th>\n",
       "      <th>set</th>\n",
       "      <th>new_set</th>\n",
       "    </tr>\n",
       "  </thead>\n",
       "  <tbody>\n",
       "    <tr>\n",
       "      <th>0</th>\n",
       "      <td>WIN_20240723_18_38_46_Pro_jpg.rf.f6b9fd34a4975...</td>\n",
       "      <td>WIN_20240723_18_38_46_Pro_jpg.rf.f6b9fd34a4975...</td>\n",
       "      <td>[[0, [0.1890625, 0.36796875, 0.18671875, 0.279...</td>\n",
       "      <td>[0]</td>\n",
       "      <td>test</td>\n",
       "      <td>train</td>\n",
       "    </tr>\n",
       "    <tr>\n",
       "      <th>1</th>\n",
       "      <td>WIN_20240723_18_38_55_Pro_jpg.rf.3351669ca933b...</td>\n",
       "      <td>WIN_20240723_18_38_55_Pro_jpg.rf.3351669ca933b...</td>\n",
       "      <td>[[0, [0.375, 0.75, 0.2265625, 0.31875]]]</td>\n",
       "      <td>[0]</td>\n",
       "      <td>test</td>\n",
       "      <td>train</td>\n",
       "    </tr>\n",
       "    <tr>\n",
       "      <th>2</th>\n",
       "      <td>WIN_20240723_18_39_10_Pro_jpg.rf.9043ca7f5109e...</td>\n",
       "      <td>WIN_20240723_18_39_10_Pro_jpg.rf.9043ca7f5109e...</td>\n",
       "      <td>[[0, [0.4765625, 0.4265625, 0.21796875, 0.3125]]]</td>\n",
       "      <td>[0]</td>\n",
       "      <td>test</td>\n",
       "      <td>train</td>\n",
       "    </tr>\n",
       "    <tr>\n",
       "      <th>3</th>\n",
       "      <td>WIN_20240723_18_39_35_Pro_jpg.rf.17f282b3c3b90...</td>\n",
       "      <td>WIN_20240723_18_39_35_Pro_jpg.rf.17f282b3c3b90...</td>\n",
       "      <td>[[1, [0.32109375, 0.6078125, 0.16796875, 0.482...</td>\n",
       "      <td>[1]</td>\n",
       "      <td>test</td>\n",
       "      <td>train</td>\n",
       "    </tr>\n",
       "    <tr>\n",
       "      <th>4</th>\n",
       "      <td>WIN_20240723_18_39_45_Pro_jpg.rf.0e33c816be836...</td>\n",
       "      <td>WIN_20240723_18_39_45_Pro_jpg.rf.0e33c816be836...</td>\n",
       "      <td>[[1, [0.1671875, 0.39296875, 0.1890625, 0.5398...</td>\n",
       "      <td>[1]</td>\n",
       "      <td>test</td>\n",
       "      <td>train</td>\n",
       "    </tr>\n",
       "    <tr>\n",
       "      <th>...</th>\n",
       "      <td>...</td>\n",
       "      <td>...</td>\n",
       "      <td>...</td>\n",
       "      <td>...</td>\n",
       "      <td>...</td>\n",
       "      <td>...</td>\n",
       "    </tr>\n",
       "    <tr>\n",
       "      <th>180</th>\n",
       "      <td>WIN_20240723_18_43_14_Pro_jpg.rf.927c896afb5d3...</td>\n",
       "      <td>WIN_20240723_18_43_14_Pro_jpg.rf.927c896afb5d3...</td>\n",
       "      <td>[[1, [0.40234375, 0.54453125, 0.2921875, 0.607...</td>\n",
       "      <td>[1]</td>\n",
       "      <td>train</td>\n",
       "      <td>train</td>\n",
       "    </tr>\n",
       "    <tr>\n",
       "      <th>181</th>\n",
       "      <td>WIN_20240723_18_43_14_Pro_jpg.rf.d86fffc3275a0...</td>\n",
       "      <td>WIN_20240723_18_43_14_Pro_jpg.rf.d86fffc3275a0...</td>\n",
       "      <td>[[1, [0.4125, 0.5625, 0.396875, 0.6375]]]</td>\n",
       "      <td>[1]</td>\n",
       "      <td>train</td>\n",
       "      <td>valid</td>\n",
       "    </tr>\n",
       "    <tr>\n",
       "      <th>182</th>\n",
       "      <td>WIN_20240723_18_43_17_Pro_jpg.rf.8bd4614185ac9...</td>\n",
       "      <td>WIN_20240723_18_43_17_Pro_jpg.rf.8bd4614185ac9...</td>\n",
       "      <td>[[1, [0.22734375, 0.42265625, 0.4546875, 0.845...</td>\n",
       "      <td>[1]</td>\n",
       "      <td>train</td>\n",
       "      <td>train</td>\n",
       "    </tr>\n",
       "    <tr>\n",
       "      <th>183</th>\n",
       "      <td>WIN_20240723_18_43_17_Pro_jpg.rf.d0966648c2f7a...</td>\n",
       "      <td>WIN_20240723_18_43_17_Pro_jpg.rf.d0966648c2f7a...</td>\n",
       "      <td>[[1, [0.796875, 0.4375, 0.40625, 0.865625]]]</td>\n",
       "      <td>[1]</td>\n",
       "      <td>train</td>\n",
       "      <td>train</td>\n",
       "    </tr>\n",
       "    <tr>\n",
       "      <th>184</th>\n",
       "      <td>WIN_20240723_18_43_17_Pro_jpg.rf.f0f33d183b990...</td>\n",
       "      <td>WIN_20240723_18_43_17_Pro_jpg.rf.f0f33d183b990...</td>\n",
       "      <td>[[1, [0.19375, 0.4796875, 0.3015625, 0.8320312...</td>\n",
       "      <td>[1]</td>\n",
       "      <td>train</td>\n",
       "      <td>valid</td>\n",
       "    </tr>\n",
       "  </tbody>\n",
       "</table>\n",
       "<p>185 rows × 6 columns</p>\n",
       "</div>"
      ],
      "text/plain": [
       "                                                images  ... new_set\n",
       "0    WIN_20240723_18_38_46_Pro_jpg.rf.f6b9fd34a4975...  ...   train\n",
       "1    WIN_20240723_18_38_55_Pro_jpg.rf.3351669ca933b...  ...   train\n",
       "2    WIN_20240723_18_39_10_Pro_jpg.rf.9043ca7f5109e...  ...   train\n",
       "3    WIN_20240723_18_39_35_Pro_jpg.rf.17f282b3c3b90...  ...   train\n",
       "4    WIN_20240723_18_39_45_Pro_jpg.rf.0e33c816be836...  ...   train\n",
       "..                                                 ...  ...     ...\n",
       "180  WIN_20240723_18_43_14_Pro_jpg.rf.927c896afb5d3...  ...   train\n",
       "181  WIN_20240723_18_43_14_Pro_jpg.rf.d86fffc3275a0...  ...   valid\n",
       "182  WIN_20240723_18_43_17_Pro_jpg.rf.8bd4614185ac9...  ...   train\n",
       "183  WIN_20240723_18_43_17_Pro_jpg.rf.d0966648c2f7a...  ...   train\n",
       "184  WIN_20240723_18_43_17_Pro_jpg.rf.f0f33d183b990...  ...   valid\n",
       "\n",
       "[185 rows x 6 columns]"
      ]
     },
     "execution_count": 6,
     "metadata": {},
     "output_type": "execute_result"
    }
   ],
   "source": [
    "df=ys.get_dataframe()\n",
    "df"
   ]
  },
  {
   "cell_type": "code",
   "execution_count": 7,
   "metadata": {},
   "outputs": [
    {
     "name": "stdout",
     "output_type": "stream",
     "text": [
      "Saving New split in 'D:\\CODES\\Projects\\forshorts\\dataset\\v2' dir\n"
     ]
    },
    {
     "name": "stderr",
     "output_type": "stream",
     "text": [
      "100%|██████████| 185/185 [00:05<00:00, 34.70it/s]\n"
     ]
    }
   ],
   "source": [
    "ys.save_split(r\"D:\\CODES\\Projects\\forshorts\\dataset\\v2\")"
   ]
  },
  {
   "cell_type": "code",
   "execution_count": null,
   "metadata": {},
   "outputs": [],
   "source": []
  },
  {
   "cell_type": "code",
   "execution_count": null,
   "metadata": {},
   "outputs": [],
   "source": []
  },
  {
   "cell_type": "code",
   "execution_count": null,
   "metadata": {},
   "outputs": [],
   "source": []
  },
  {
   "cell_type": "code",
   "execution_count": null,
   "metadata": {},
   "outputs": [],
   "source": []
  },
  {
   "cell_type": "code",
   "execution_count": null,
   "metadata": {},
   "outputs": [],
   "source": []
  },
  {
   "cell_type": "code",
   "execution_count": null,
   "metadata": {},
   "outputs": [],
   "source": []
  },
  {
   "cell_type": "code",
   "execution_count": null,
   "metadata": {},
   "outputs": [],
   "source": []
  },
  {
   "cell_type": "code",
   "execution_count": null,
   "metadata": {},
   "outputs": [],
   "source": []
  }
 ],
 "metadata": {
  "kernelspec": {
   "display_name": "tfbase",
   "language": "python",
   "name": "python3"
  },
  "language_info": {
   "codemirror_mode": {
    "name": "ipython",
    "version": 3
   },
   "file_extension": ".py",
   "mimetype": "text/x-python",
   "name": "python",
   "nbconvert_exporter": "python",
   "pygments_lexer": "ipython3",
   "version": "3.10.11"
  }
 },
 "nbformat": 4,
 "nbformat_minor": 2
}
